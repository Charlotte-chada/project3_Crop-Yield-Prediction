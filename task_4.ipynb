{
 "cells": [
  {
   "cell_type": "code",
   "execution_count": 1,
   "id": "0b931a01-d3d5-422d-adfc-0422c1d12e7c",
   "metadata": {},
   "outputs": [],
   "source": [
    "import numpy as np \n",
    "import matplotlib.pyplot as plt\n",
    "import seaborn as sns\n",
    "import pandas as pd\n",
    "import sklearn\n",
    "from sklearn.tree import DecisionTreeRegressor\n",
    "from sklearn.ensemble import RandomForestRegressor\n",
    "from sklearn.neighbors import KNeighborsRegressor\n",
    "from sklearn.metrics import explained_variance_score\n",
    "from sklearn.metrics import accuracy_score as acc\n",
    "from sklearn.metrics import mean_absolute_error, mean_squared_error, r2_score\n",
    "\n",
    "import warnings\n",
    "from pandas import read_csv\n"
   ]
  },
  {
   "cell_type": "markdown",
   "id": "b0c35665-d83e-449e-abfe-ece5b18158c7",
   "metadata": {},
   "source": [
    "***This task aims to predic Yield value, so we will use the dataset_a***"
   ]
  },
  {
   "cell_type": "code",
   "execution_count": 2,
   "id": "255995a2-4a79-42f9-b8aa-0e94f07fa544",
   "metadata": {},
   "outputs": [],
   "source": [
    "X_train=read_csv('a_X_train.csv', delimiter=',')\n",
    "y_train=read_csv('a_y_train.csv', delimiter=',')\n",
    "X_test=read_csv('a_X_test.csv', delimiter=',')\n",
    "y_test=read_csv('a_y_test.csv', delimiter=',')"
   ]
  },
  {
   "cell_type": "markdown",
   "id": "8bcecdd5-da3e-4aca-a3ae-a43560046e3a",
   "metadata": {},
   "source": [
    "***The selected learning Algorithms are DecisionTreeRegressor with configuration max_depth = 1,2,3 and RandomForestRegressor with configuration n_estimators = 1,3***\n",
    "\n",
    "***The model is trained and tested via for loop, and model performance is measured by mean_absolute_error,mean_squared_ error and r2_score***"
   ]
  },
  {
   "cell_type": "code",
   "execution_count": 3,
   "id": "225e48af-d420-479e-8614-9ee33baf40bc",
   "metadata": {},
   "outputs": [
    {
     "name": "stderr",
     "output_type": "stream",
     "text": [
      "/var/folders/9y/fkkg24d13ms28wc9l9_0t50w0000gn/T/ipykernel_52937/1749615632.py:35: FutureWarning: The frame.append method is deprecated and will be removed from pandas in a future version. Use pandas.concat instead.\n",
      "  model_perf = model_perf.append(new_row,ignore_index = True)\n",
      "/var/folders/9y/fkkg24d13ms28wc9l9_0t50w0000gn/T/ipykernel_52937/1749615632.py:35: FutureWarning: The frame.append method is deprecated and will be removed from pandas in a future version. Use pandas.concat instead.\n",
      "  model_perf = model_perf.append(new_row,ignore_index = True)\n",
      "/var/folders/9y/fkkg24d13ms28wc9l9_0t50w0000gn/T/ipykernel_52937/1749615632.py:35: FutureWarning: The frame.append method is deprecated and will be removed from pandas in a future version. Use pandas.concat instead.\n",
      "  model_perf = model_perf.append(new_row,ignore_index = True)\n",
      "/var/folders/9y/fkkg24d13ms28wc9l9_0t50w0000gn/T/ipykernel_52937/1749615632.py:23: DataConversionWarning: A column-vector y was passed when a 1d array was expected. Please change the shape of y to (n_samples,), for example using ravel().\n",
      "  model.fit(X_train,y_train)\n",
      "/var/folders/9y/fkkg24d13ms28wc9l9_0t50w0000gn/T/ipykernel_52937/1749615632.py:35: FutureWarning: The frame.append method is deprecated and will be removed from pandas in a future version. Use pandas.concat instead.\n",
      "  model_perf = model_perf.append(new_row,ignore_index = True)\n",
      "/var/folders/9y/fkkg24d13ms28wc9l9_0t50w0000gn/T/ipykernel_52937/1749615632.py:23: DataConversionWarning: A column-vector y was passed when a 1d array was expected. Please change the shape of y to (n_samples,), for example using ravel().\n",
      "  model.fit(X_train,y_train)\n",
      "/var/folders/9y/fkkg24d13ms28wc9l9_0t50w0000gn/T/ipykernel_52937/1749615632.py:35: FutureWarning: The frame.append method is deprecated and will be removed from pandas in a future version. Use pandas.concat instead.\n",
      "  model_perf = model_perf.append(new_row,ignore_index = True)\n"
     ]
    }
   ],
   "source": [
    "models = [DecisionTreeRegressor(), RandomForestRegressor()]\n",
    "TR_config = [1,2,3]\n",
    "RDF_config = [1,3]\n",
    "MAE = []\n",
    "MSE = []\n",
    "R2 = []\n",
    "model_perf = pd.DataFrame(columns=['Model_Name','Parameter','Config','MAE','MSE','R2_Score'])\n",
    "\n",
    "# Loop over models\n",
    "for model in models:\n",
    "    if isinstance(model, DecisionTreeRegressor):\n",
    "        model_name = \"Decision TreeRegressor\"\n",
    "        configs = TR_config\n",
    "        parameter = 'max_depth'\n",
    "    else:\n",
    "        model_name = \"RandomForest Regressor\"\n",
    "        configs = RDF_config\n",
    "        parameter = 'n_estimators'\n",
    "        \n",
    "    for config in configs:\n",
    "        model.set_params(**{parameter: config})\n",
    "        # Train the model\n",
    "        model.fit(X_train,y_train)\n",
    "\n",
    "         # Make predictions\n",
    "        y_pred = model.predict(X_test)\n",
    "\n",
    "         # Calculate MAE,MSE,R2\n",
    "        MAE = mean_absolute_error(y_test, y_pred)\n",
    "        MSE = mean_squared_error(y_test, y_pred)\n",
    "        R2 = r2_score(y_test, y_pred)\n",
    "        # Append scores to the lists\n",
    "\n",
    "        new_row = {'Model_Name':model_name,'Config':config,'Parameter':parameter,'MAE':MAE ,'MSE':MSE , 'R2_Score': R2}\n",
    "        model_perf = model_perf.append(new_row,ignore_index = True)"
   ]
  },
  {
   "cell_type": "code",
   "execution_count": 4,
   "id": "1318470b-6916-4b1c-81dc-5fab3db0a7ca",
   "metadata": {},
   "outputs": [
    {
     "data": {
      "text/html": [
       "<div>\n",
       "<style scoped>\n",
       "    .dataframe tbody tr th:only-of-type {\n",
       "        vertical-align: middle;\n",
       "    }\n",
       "\n",
       "    .dataframe tbody tr th {\n",
       "        vertical-align: top;\n",
       "    }\n",
       "\n",
       "    .dataframe thead th {\n",
       "        text-align: right;\n",
       "    }\n",
       "</style>\n",
       "<table border=\"1\" class=\"dataframe\">\n",
       "  <thead>\n",
       "    <tr style=\"text-align: right;\">\n",
       "      <th></th>\n",
       "      <th>Model_Name</th>\n",
       "      <th>Parameter</th>\n",
       "      <th>Config</th>\n",
       "      <th>MAE</th>\n",
       "      <th>MSE</th>\n",
       "      <th>R2_Score</th>\n",
       "    </tr>\n",
       "  </thead>\n",
       "  <tbody>\n",
       "    <tr>\n",
       "      <th>0</th>\n",
       "      <td>Decision TreeRegressor</td>\n",
       "      <td>max_depth</td>\n",
       "      <td>1</td>\n",
       "      <td>126.661425</td>\n",
       "      <td>21448.008372</td>\n",
       "      <td>0.776528</td>\n",
       "    </tr>\n",
       "    <tr>\n",
       "      <th>1</th>\n",
       "      <td>Decision TreeRegressor</td>\n",
       "      <td>max_depth</td>\n",
       "      <td>2</td>\n",
       "      <td>55.758345</td>\n",
       "      <td>5166.149027</td>\n",
       "      <td>0.946173</td>\n",
       "    </tr>\n",
       "    <tr>\n",
       "      <th>2</th>\n",
       "      <td>Decision TreeRegressor</td>\n",
       "      <td>max_depth</td>\n",
       "      <td>3</td>\n",
       "      <td>27.851481</td>\n",
       "      <td>1492.799183</td>\n",
       "      <td>0.984446</td>\n",
       "    </tr>\n",
       "    <tr>\n",
       "      <th>3</th>\n",
       "      <td>RandomForest Regressor</td>\n",
       "      <td>n_estimators</td>\n",
       "      <td>1</td>\n",
       "      <td>12.318333</td>\n",
       "      <td>287.816317</td>\n",
       "      <td>0.997001</td>\n",
       "    </tr>\n",
       "    <tr>\n",
       "      <th>4</th>\n",
       "      <td>RandomForest Regressor</td>\n",
       "      <td>n_estimators</td>\n",
       "      <td>3</td>\n",
       "      <td>8.671806</td>\n",
       "      <td>205.268271</td>\n",
       "      <td>0.997861</td>\n",
       "    </tr>\n",
       "  </tbody>\n",
       "</table>\n",
       "</div>"
      ],
      "text/plain": [
       "               Model_Name     Parameter Config         MAE           MSE  \\\n",
       "0  Decision TreeRegressor     max_depth      1  126.661425  21448.008372   \n",
       "1  Decision TreeRegressor     max_depth      2   55.758345   5166.149027   \n",
       "2  Decision TreeRegressor     max_depth      3   27.851481   1492.799183   \n",
       "3  RandomForest Regressor  n_estimators      1   12.318333    287.816317   \n",
       "4  RandomForest Regressor  n_estimators      3    8.671806    205.268271   \n",
       "\n",
       "   R2_Score  \n",
       "0  0.776528  \n",
       "1  0.946173  \n",
       "2  0.984446  \n",
       "3  0.997001  \n",
       "4  0.997861  "
      ]
     },
     "execution_count": 4,
     "metadata": {},
     "output_type": "execute_result"
    }
   ],
   "source": [
    "model_perf"
   ]
  }
 ],
 "metadata": {
  "kernelspec": {
   "display_name": "Python 3 (ipykernel)",
   "language": "python",
   "name": "python3"
  },
  "language_info": {
   "codemirror_mode": {
    "name": "ipython",
    "version": 3
   },
   "file_extension": ".py",
   "mimetype": "text/x-python",
   "name": "python",
   "nbconvert_exporter": "python",
   "pygments_lexer": "ipython3",
   "version": "3.9.12"
  },
  "toc": {
   "base_numbering": 1,
   "nav_menu": {},
   "number_sections": true,
   "sideBar": true,
   "skip_h1_title": false,
   "title_cell": "Table of Contents",
   "title_sidebar": "Contents",
   "toc_cell": false,
   "toc_position": {},
   "toc_section_display": true,
   "toc_window_display": false
  }
 },
 "nbformat": 4,
 "nbformat_minor": 5
}
